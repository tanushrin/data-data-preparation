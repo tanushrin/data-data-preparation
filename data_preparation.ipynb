{
 "cells": [
  {
   "cell_type": "markdown",
   "metadata": {},
   "source": [
    "# Data Preparation"
   ]
  },
  {
   "cell_type": "code",
   "execution_count": 25,
   "metadata": {},
   "outputs": [
    {
     "name": "stdout",
     "output_type": "stream",
     "text": [
      "The autoreload extension is already loaded. To reload it, use:\n",
      "  %reload_ext autoreload\n"
     ]
    }
   ],
   "source": [
    "# \"magic commands\" to enable autoreload of your imported packages\n",
    "%load_ext autoreload\n",
    "%autoreload 2\n"
   ]
  },
  {
   "attachments": {},
   "cell_type": "markdown",
   "metadata": {},
   "source": [
    "Our goal is to load all 9 `.csv` files each of them as a `pandas.DataFrame` in a single dict named `data` where:\n",
    "- each **key** is the **cleaned name** of the csv file\n",
    "- each **value** is the **DataFrame** created from the csv\n",
    "\n",
    "```python\n",
    "data = { \n",
    "    'sellers': DataFrame1,\n",
    "    'orders': DataFrame2,\n",
    "    ...\n",
    "    }\n",
    "```"
   ]
  },
  {
   "cell_type": "markdown",
   "metadata": {},
   "source": [
    "### 1. Create the variable `csv_path`, which stores the path to your `\"csv\" folder` as a string"
   ]
  },
  {
   "cell_type": "markdown",
   "metadata": {},
   "source": [
    "- When calling `pd.read_csv(csv_path)`, `csv_path` can be absolute or relative:\n",
    "    - A **`relative path`** can start with `.` or `..`, it is always computed with respect to your current working directory \n",
    "        - *Reminder: you can use `!pwd` in your notebook or `pwd` in your terminal to know where you are located*\n",
    "    - An **`absolute path`** starts with `/` "
   ]
  },
  {
   "cell_type": "code",
   "execution_count": 11,
   "metadata": {},
   "outputs": [
    {
     "data": {
      "text/plain": [
       "'/Users/tanushrinayak/code/tanushrin/04-Decision-Science/01-Project-Setup/data-data-preparation'"
      ]
     },
     "execution_count": 11,
     "metadata": {},
     "output_type": "execute_result"
    }
   ],
   "source": [
    "# Check your current working directory using `os.getcwd()` below\n",
    "import os\n",
    "os.getcwd()\n"
   ]
  },
  {
   "cell_type": "markdown",
   "metadata": {},
   "source": [
    "☝️ `getcwd` a.k.a `get current working directory` refers to the absolute path _from which this notebook is being executed_\n",
    "\n",
    "Create a relative `csv_path`.\n",
    "\n",
    "Try to use [`os.path.join`](https://docs.python.org/3/library/os.path.html), which replaces both:\n",
    "* Linux/MacOS syntax (e.g. `../folder_name`) \n",
    "* and Windows syntax (e.g. `..\\\\folder_name`) \n",
    "\n",
    "and is therefore more robust !"
   ]
  },
  {
   "cell_type": "code",
   "execution_count": 12,
   "metadata": {
    "tags": [
     "challengify"
    ]
   },
   "outputs": [
    {
     "data": {
      "text/plain": [
       "'/Users/tanushrinayak/code/tanushrin/04-Decision-Science/01-Project-Setup/data-data-preparation/../data-context-and-setup/data/csv'"
      ]
     },
     "execution_count": 12,
     "metadata": {},
     "output_type": "execute_result"
    }
   ],
   "source": [
    "# YOUR CODE HERE\n",
    "import csv\n",
    "import os\n",
    "\n",
    "# create a csv_path variable that contains the path to the csv file\n",
    "csv_path = os.path.join(os.getcwd(), '../data-context-and-setup/data/csv')\n",
    "csv_path\n"
   ]
  },
  {
   "cell_type": "code",
   "execution_count": 13,
   "metadata": {},
   "outputs": [
    {
     "data": {
      "text/html": [
       "<div>\n",
       "<style scoped>\n",
       "    .dataframe tbody tr th:only-of-type {\n",
       "        vertical-align: middle;\n",
       "    }\n",
       "\n",
       "    .dataframe tbody tr th {\n",
       "        vertical-align: top;\n",
       "    }\n",
       "\n",
       "    .dataframe thead th {\n",
       "        text-align: right;\n",
       "    }\n",
       "</style>\n",
       "<table border=\"1\" class=\"dataframe\">\n",
       "  <thead>\n",
       "    <tr style=\"text-align: right;\">\n",
       "      <th></th>\n",
       "      <th>seller_id</th>\n",
       "      <th>seller_zip_code_prefix</th>\n",
       "      <th>seller_city</th>\n",
       "      <th>seller_state</th>\n",
       "    </tr>\n",
       "  </thead>\n",
       "  <tbody>\n",
       "    <tr>\n",
       "      <th>0</th>\n",
       "      <td>3442f8959a84dea7ee197c632cb2df15</td>\n",
       "      <td>13023</td>\n",
       "      <td>campinas</td>\n",
       "      <td>SP</td>\n",
       "    </tr>\n",
       "    <tr>\n",
       "      <th>1</th>\n",
       "      <td>d1b65fc7debc3361ea86b5f14c68d2e2</td>\n",
       "      <td>13844</td>\n",
       "      <td>mogi guacu</td>\n",
       "      <td>SP</td>\n",
       "    </tr>\n",
       "    <tr>\n",
       "      <th>2</th>\n",
       "      <td>ce3ad9de960102d0677a81f5d0bb7b2d</td>\n",
       "      <td>20031</td>\n",
       "      <td>rio de janeiro</td>\n",
       "      <td>RJ</td>\n",
       "    </tr>\n",
       "    <tr>\n",
       "      <th>3</th>\n",
       "      <td>c0f3eea2e14555b6faeea3dd58c1b1c3</td>\n",
       "      <td>4195</td>\n",
       "      <td>sao paulo</td>\n",
       "      <td>SP</td>\n",
       "    </tr>\n",
       "    <tr>\n",
       "      <th>4</th>\n",
       "      <td>51a04a8a6bdcb23deccc82b0b80742cf</td>\n",
       "      <td>12914</td>\n",
       "      <td>braganca paulista</td>\n",
       "      <td>SP</td>\n",
       "    </tr>\n",
       "  </tbody>\n",
       "</table>\n",
       "</div>"
      ],
      "text/plain": [
       "                          seller_id  seller_zip_code_prefix  \\\n",
       "0  3442f8959a84dea7ee197c632cb2df15                   13023   \n",
       "1  d1b65fc7debc3361ea86b5f14c68d2e2                   13844   \n",
       "2  ce3ad9de960102d0677a81f5d0bb7b2d                   20031   \n",
       "3  c0f3eea2e14555b6faeea3dd58c1b1c3                    4195   \n",
       "4  51a04a8a6bdcb23deccc82b0b80742cf                   12914   \n",
       "\n",
       "         seller_city seller_state  \n",
       "0           campinas           SP  \n",
       "1         mogi guacu           SP  \n",
       "2     rio de janeiro           RJ  \n",
       "3          sao paulo           SP  \n",
       "4  braganca paulista           SP  "
      ]
     },
     "execution_count": 13,
     "metadata": {},
     "output_type": "execute_result"
    }
   ],
   "source": [
    "# Test your code below\n",
    "import pandas as pd\n",
    "pd.read_csv(os.path.join(csv_path, 'olist_sellers_dataset.csv')).head()\n"
   ]
  },
  {
   "cell_type": "markdown",
   "metadata": {},
   "source": [
    "### 2. Create the list `file_names` containing all csv file names in the csv directory\n",
    "\n",
    "- It should look like this `file_names = ['olist_sellers_dataset.csv', ....]`\n",
    "- You can use `os.listdir()`\n",
    "- Make sure it only lists csv files!"
   ]
  },
  {
   "cell_type": "code",
   "execution_count": 14,
   "metadata": {
    "tags": [
     "challengify"
    ]
   },
   "outputs": [
    {
     "data": {
      "text/plain": [
       "['olist_sellers_dataset.csv',\n",
       " 'product_category_name_translation.csv',\n",
       " 'olist_orders_dataset.csv',\n",
       " 'olist_order_items_dataset.csv',\n",
       " 'olist_customers_dataset.csv',\n",
       " 'olist_geolocation_dataset.csv',\n",
       " 'olist_order_payments_dataset.csv',\n",
       " 'olist_order_reviews_dataset.csv',\n",
       " 'olist_products_dataset.csv']"
      ]
     },
     "execution_count": 14,
     "metadata": {},
     "output_type": "execute_result"
    }
   ],
   "source": [
    "# YOUR CODE HERE\n",
    "# Create the list 'file_names' containing all csv file names in the csv directory\n",
    "file_names = os.listdir(csv_path)\n",
    "file_names = [f for f in file_names if f.endswith('.csv')]\n",
    "file_names\n"
   ]
  },
  {
   "cell_type": "markdown",
   "metadata": {},
   "source": [
    "### 3.  Create the list of dict key `key_names` \n",
    "Starting from file_names and:\n",
    "- Removing its suffix \".csv\" when it exists\n",
    "- Removing its suffix \"_dataset.csv\" when it exists\n",
    "- Removing its prefix \"olist_\" when it exists\n",
    "\n",
    "<details>\n",
    "    <summary>- Hint - </summary>\n",
    "\n",
    "- `.replace()`\n",
    "    \n",
    "- `str` ings are iterables you can slice with [ ]\n",
    "</details>"
   ]
  },
  {
   "cell_type": "code",
   "execution_count": 15,
   "metadata": {
    "tags": [
     "challengify"
    ]
   },
   "outputs": [
    {
     "data": {
      "text/plain": [
       "['sellers',\n",
       " 'product_category_name_translation',\n",
       " 'orders',\n",
       " 'order_items',\n",
       " 'customers',\n",
       " 'geolocation',\n",
       " 'order_payments',\n",
       " 'order_reviews',\n",
       " 'products']"
      ]
     },
     "execution_count": 15,
     "metadata": {},
     "output_type": "execute_result"
    }
   ],
   "source": [
    "# YOUR CODE HERE\n",
    "# create a list key_names from file_names removing suffix \".csv\", \"_dataset.csv\" and prefix \"olist_\" when it exists\n",
    "key_names = [f.replace('.csv', '').replace('_dataset', '').replace('olist_', '') for f in file_names]\n",
    "key_names\n"
   ]
  },
  {
   "attachments": {},
   "cell_type": "markdown",
   "metadata": {},
   "source": [
    "### 4. Construct the dictionary `data`\n",
    "\n",
    "```python\n",
    "data = { \n",
    "    'sellers': DataFrame1,\n",
    "    'orders': DataFrame2,\n",
    "    'order_items': DataFrame3,\n",
    "    ...\n",
    "    }\n",
    "```\n",
    "Where `DataFrame1`, `DataFrame2`, ... should be actual `pandas.DataFrame`s! Not strings containing the file path to the csv files\n",
    "\n",
    "<details>\n",
    "    <summary>▸ Hint</summary>\n",
    "\n",
    "The `zip()` method is very useful to iterate over two lists\n",
    "```python\n",
    "for (x, y) in zip(['a','b','c'], [1,2,3]):\n",
    "    print(x,y)\n",
    "\n",
    "# returns ('a', 1), ('b', 2), ('c', 3)\n",
    "    \n",
    "```\n",
    "</details>"
   ]
  },
  {
   "cell_type": "code",
   "execution_count": 23,
   "metadata": {
    "tags": [
     "challengify"
    ]
   },
   "outputs": [
    {
     "name": "stdout",
     "output_type": "stream",
     "text": [
      "9\n"
     ]
    }
   ],
   "source": [
    "# YOUR CODE HERE\n",
    "data = {}\n",
    "\n",
    "data_frames = [pd.read_csv(os.path.join(csv_path, f)) for f in file_names]\n",
    "print(len(data_frames))\n",
    "for (x,y) in zip(\n",
    "    key_names, data_frames):\n",
    "    data[x] = y\n",
    "\n",
    "#print(data)\n"
   ]
  },
  {
   "cell_type": "markdown",
   "metadata": {},
   "source": [
    "### 5. Implement the method `get_data()` in `olist/data.py`\n",
    "\n",
    "It should return the dictionary `data` upon calling it as per below\n",
    "\n",
    "```python\n",
    "from olist.data import Olist\n",
    "Olist().get_data()\n",
    "```\n",
    "- Take time to understand what happens when `Olist().get_data()` is called\n",
    "- Your method `get_data()` needs to be callable from various places (e.g your Terminal, this notebook, another notebook located elsewhere, etc...)\n",
    "- You can't use a relative path this time as the current working directory `os.getcwd()` depends on where you run the code in the first place"
   ]
  },
  {
   "cell_type": "markdown",
   "metadata": {},
   "source": [
    "### Test your code"
   ]
  },
  {
   "cell_type": "code",
   "execution_count": 24,
   "metadata": {},
   "outputs": [
    {
     "name": "stdout",
     "output_type": "stream",
     "text": [
      "\n",
      "\u001b[1m============================= test session starts ==============================\u001b[0m\n",
      "platform darwin -- Python 3.10.6, pytest-7.1.3, pluggy-1.0.0 -- /Users/tanushrinayak/.pyenv/versions/3.10.6/envs/lewagon/bin/python3\n",
      "cachedir: .pytest_cache\n",
      "rootdir: /Users/tanushrinayak/code/tanushrin/04-Decision-Science/01-Project-Setup/data-data-preparation/tests\n",
      "plugins: asyncio-0.19.0, typeguard-2.13.3, anyio-3.6.2\n",
      "asyncio: mode=strict\n",
      "\u001b[1mcollecting ... \u001b[0mcollected 3 items\n",
      "\n",
      "test_get_data.py::TestGetData::test_columns \u001b[32mPASSED\u001b[0m\u001b[32m                       [ 33%]\u001b[0m\n",
      "test_get_data.py::TestGetData::test_keys \u001b[32mPASSED\u001b[0m\u001b[32m                          [ 66%]\u001b[0m\n",
      "test_get_data.py::TestGetData::test_len \u001b[32mPASSED\u001b[0m\u001b[32m                           [100%]\u001b[0m\n",
      "\n",
      "\u001b[32m============================== \u001b[32m\u001b[1m3 passed\u001b[0m\u001b[32m in 0.02s\u001b[0m\u001b[32m ===============================\u001b[0m\n",
      "\n",
      "\n",
      "💯 You can commit your code:\n",
      "\n",
      "\u001b[1;32mgit\u001b[39m add tests/get_data.pickle\n",
      "\n",
      "\u001b[32mgit\u001b[39m commit -m \u001b[33m'Completed get_data step'\u001b[39m\n",
      "\n",
      "\u001b[32mgit\u001b[39m push origin master\n",
      "\n"
     ]
    }
   ],
   "source": [
    "from nbresult import ChallengeResult\n",
    "from olist.data import Olist\n",
    "data = Olist().get_data()\n",
    "result = ChallengeResult('get_data',\n",
    "    keys_len=len(data),\n",
    "    keys=sorted(list(data.keys())),\n",
    "    columns=sorted(list(data['sellers'].columns))\n",
    "    )\n",
    "result.write()\n",
    "print(result.check())\n"
   ]
  },
  {
   "cell_type": "code",
   "execution_count": 22,
   "metadata": {},
   "outputs": [
    {
     "data": {
      "text/html": [
       "<div>\n",
       "<style scoped>\n",
       "    .dataframe tbody tr th:only-of-type {\n",
       "        vertical-align: middle;\n",
       "    }\n",
       "\n",
       "    .dataframe tbody tr th {\n",
       "        vertical-align: top;\n",
       "    }\n",
       "\n",
       "    .dataframe thead th {\n",
       "        text-align: right;\n",
       "    }\n",
       "</style>\n",
       "<table border=\"1\" class=\"dataframe\">\n",
       "  <thead>\n",
       "    <tr style=\"text-align: right;\">\n",
       "      <th></th>\n",
       "      <th>seller_id</th>\n",
       "      <th>seller_zip_code_prefix</th>\n",
       "      <th>seller_city</th>\n",
       "      <th>seller_state</th>\n",
       "    </tr>\n",
       "  </thead>\n",
       "  <tbody>\n",
       "    <tr>\n",
       "      <th>0</th>\n",
       "      <td>3442f8959a84dea7ee197c632cb2df15</td>\n",
       "      <td>13023</td>\n",
       "      <td>campinas</td>\n",
       "      <td>SP</td>\n",
       "    </tr>\n",
       "    <tr>\n",
       "      <th>1</th>\n",
       "      <td>d1b65fc7debc3361ea86b5f14c68d2e2</td>\n",
       "      <td>13844</td>\n",
       "      <td>mogi guacu</td>\n",
       "      <td>SP</td>\n",
       "    </tr>\n",
       "    <tr>\n",
       "      <th>2</th>\n",
       "      <td>ce3ad9de960102d0677a81f5d0bb7b2d</td>\n",
       "      <td>20031</td>\n",
       "      <td>rio de janeiro</td>\n",
       "      <td>RJ</td>\n",
       "    </tr>\n",
       "    <tr>\n",
       "      <th>3</th>\n",
       "      <td>c0f3eea2e14555b6faeea3dd58c1b1c3</td>\n",
       "      <td>4195</td>\n",
       "      <td>sao paulo</td>\n",
       "      <td>SP</td>\n",
       "    </tr>\n",
       "    <tr>\n",
       "      <th>4</th>\n",
       "      <td>51a04a8a6bdcb23deccc82b0b80742cf</td>\n",
       "      <td>12914</td>\n",
       "      <td>braganca paulista</td>\n",
       "      <td>SP</td>\n",
       "    </tr>\n",
       "  </tbody>\n",
       "</table>\n",
       "</div>"
      ],
      "text/plain": [
       "                          seller_id  seller_zip_code_prefix  \\\n",
       "0  3442f8959a84dea7ee197c632cb2df15                   13023   \n",
       "1  d1b65fc7debc3361ea86b5f14c68d2e2                   13844   \n",
       "2  ce3ad9de960102d0677a81f5d0bb7b2d                   20031   \n",
       "3  c0f3eea2e14555b6faeea3dd58c1b1c3                    4195   \n",
       "4  51a04a8a6bdcb23deccc82b0b80742cf                   12914   \n",
       "\n",
       "         seller_city seller_state  \n",
       "0           campinas           SP  \n",
       "1         mogi guacu           SP  \n",
       "2     rio de janeiro           RJ  \n",
       "3          sao paulo           SP  \n",
       "4  braganca paulista           SP  "
      ]
     },
     "execution_count": 22,
     "metadata": {},
     "output_type": "execute_result"
    }
   ],
   "source": [
    "from olist.data import Olist\n",
    "Olist().get_data()['sellers'].head()\n"
   ]
  },
  {
   "cell_type": "markdown",
   "metadata": {},
   "source": [
    "❓This piece of code needs to work from anywhere on your machine, not only in this notebook.\n",
    "- Open a new terminal\n",
    "- Go to your home folder `cd`\n",
    "- Launch an `ipython` session\n",
    "- Test the two lines of code above 👆"
   ]
  },
  {
   "cell_type": "markdown",
   "metadata": {},
   "source": [
    "🏁 Congratulations !\n",
    "\n",
    "💾 Don't forget to commit & push: \n",
    "* this `data_preparation.ipynb` notebook\n",
    "* as well as `data.py`"
   ]
  },
  {
   "cell_type": "code",
   "execution_count": null,
   "metadata": {},
   "outputs": [],
   "source": []
  }
 ],
 "metadata": {
  "kernelspec": {
   "display_name": "Python 3",
   "language": "python",
   "name": "python3"
  },
  "language_info": {
   "codemirror_mode": {
    "name": "ipython",
    "version": 3
   },
   "file_extension": ".py",
   "mimetype": "text/x-python",
   "name": "python",
   "nbconvert_exporter": "python",
   "pygments_lexer": "ipython3",
   "version": "3.10.6"
  }
 },
 "nbformat": 4,
 "nbformat_minor": 4
}
